{
 "cells": [
  {
   "cell_type": "code",
   "execution_count": 5,
   "metadata": {},
   "outputs": [],
   "source": [
    "import os\n",
    "import json\n",
    "import shutil"
   ]
  },
  {
   "cell_type": "code",
   "execution_count": 6,
   "metadata": {},
   "outputs": [],
   "source": [
    "DATASET_PATH = '/opt/ml/input/data'\n",
    "NEW_PATH = '/opt/ml/input/mmseg'\n",
    "TRAIN_JSON = os.path.join(DATASET_PATH, 'train.json')\n",
    "VAL_JSON = os.path.join(DATASET_PATH, 'val.json')\n",
    "TEST_JSON = os.path.join(DATASET_PATH, 'test.json')"
   ]
  },
  {
   "cell_type": "code",
   "execution_count": 7,
   "metadata": {},
   "outputs": [],
   "source": [
    "def copy_images(new_dir, JSON_FILE):\n",
    "    os.makedirs(NEW_PATH + new_dir, exist_ok=True)\n",
    "\n",
    "    with open(JSON_FILE, 'r') as json_file:\n",
    "        images = json.load(json_file)['images']\n",
    "\n",
    "    for image in images:\n",
    "        copy_from = os.path.join(DATASET_PATH, image['file_name'])\n",
    "        copy_to = NEW_PATH + new_dir + f'/{image[\"id\"]:04}.jpg'\n",
    "        shutil.copyfile(copy_from, copy_to)"
   ]
  },
  {
   "cell_type": "code",
   "execution_count": 8,
   "metadata": {},
   "outputs": [],
   "source": [
    "os.makedirs(NEW_PATH, exist_ok=True)\n",
    "\n",
    "copy_images('/images/train', TRAIN_JSON)\n",
    "copy_images('/images/val', VAL_JSON)\n",
    "copy_images('/test', TEST_JSON)"
   ]
  }
 ],
 "metadata": {
  "interpreter": {
   "hash": "3d640da6e093f86e01f9d038e7ac57c8762f8075696c5d4c37e49410c439100c"
  },
  "kernelspec": {
   "display_name": "Python 3.10.4 ('mm')",
   "language": "python",
   "name": "python3"
  },
  "language_info": {
   "codemirror_mode": {
    "name": "ipython",
    "version": 3
   },
   "file_extension": ".py",
   "mimetype": "text/x-python",
   "name": "python",
   "nbconvert_exporter": "python",
   "pygments_lexer": "ipython3",
   "version": "3.8.5"
  },
  "orig_nbformat": 4
 },
 "nbformat": 4,
 "nbformat_minor": 2
}
