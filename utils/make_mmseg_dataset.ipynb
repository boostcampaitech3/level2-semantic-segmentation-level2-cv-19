{
 "cells": [
  {
   "cell_type": "code",
   "execution_count": 1,
   "metadata": {},
   "outputs": [],
   "source": [
    "import os\n",
    "import random\n",
    "import time\n",
    "import json\n",
    "\n",
    "import cv2\n",
    "\n",
    "import numpy as np\n",
    "import pandas as pd\n",
    "from tqdm import tqdm\n",
    "\n",
    "# 전처리를 위한 라이브러리\n",
    "from pycocotools.coco import COCO\n",
    "\n",
    "# 시각화를 위한 라이브러리\n",
    "import matplotlib.pyplot as plt\n",
    "\n",
    "#split\n",
    "from sklearn.model_selection import train_test_split"
   ]
  },
  {
   "cell_type": "code",
   "execution_count": 2,
   "metadata": {},
   "outputs": [],
   "source": [
    "dataset_path  = '/opt/ml/input/data'\n",
    "anns_file_path = dataset_path + '/' + 'train_all.json'\n",
    "train_path = dataset_path + '/train.json'\n",
    "val_path = dataset_path + '/val.json'\n",
    "test_path = dataset_path + '/test.json'\n",
    "\n",
    "save_data_path = \"./mmsegmentation/data/trash_dataset\" #/img_dir, /ann_dir"
   ]
  },
  {
   "cell_type": "code",
   "execution_count": 3,
   "metadata": {},
   "outputs": [],
   "source": [
    "#기존 폴더 삭제\n",
    "for root, dirs, files in os.walk(\"./mmsegmentation/data/trash_dataset\", topdown=False):\n",
    "    for name in files:\n",
    "        os.remove(os.path.join(root, name))\n",
    "    for name in dirs:\n",
    "        os.rmdir(os.path.join(root, name))\n",
    "\n",
    "#폴더 새로 생성\n",
    "for i in [\"train\",\"val\"]:\n",
    "    if not os.path.exists(save_data_path + \"/img_dir/\" + i + \"/\"):\n",
    "        os.makedirs(save_data_path + \"/img_dir/\" + i)\n",
    "    if not os.path.exists(save_data_path + \"/ann_dir/\" + i):\n",
    "        os.makedirs(save_data_path + \"/ann_dir/\" + i)\n",
    "    "
   ]
  },
  {
   "cell_type": "code",
   "execution_count": 4,
   "metadata": {},
   "outputs": [],
   "source": [
    "category_names = ['Backgroud',\n",
    "                'General trash',\n",
    "                'Paper',\n",
    "                'Paper pack',\n",
    "                'Metal',\n",
    "                'Glass',\n",
    "                'Plastic',\n",
    "                'Styrofoam',\n",
    "                'Plastic bag',\n",
    "                'Battery',\n",
    "                'Clothing']\n",
    "\n",
    "color = [[\"Backgroud\",0,0,0],\n",
    "        [\"General trash\",192,0,128],\n",
    "        [\"Paper\",0,128,192],\n",
    "        [\"Paper pack\",0,128,64],\n",
    "        [\"Metal\",128,0,0],\n",
    "        [\"Glass\",64,0,128],\n",
    "        [\"Plastic\",64,0,192],\n",
    "        [\"Styrofoam\",192,128,64],\n",
    "        [\"Plastic bag\",192,192,128],\n",
    "        [\"Battery\",64,64,128],\n",
    "        [\"Clothing\",128,0,192]]\n",
    "class_colormap = pd.DataFrame(color,columns=[\"name\",\"r\",\"g\",\"b\"])"
   ]
  },
  {
   "cell_type": "code",
   "execution_count": 5,
   "metadata": {},
   "outputs": [],
   "source": [
    "def create_trash_label_colormap():\n",
    "    \"\"\"Creates a label colormap used in Trash segmentation.\n",
    "    Returns:\n",
    "        A colormap for visualizing segmentation results.\n",
    "    \"\"\"\n",
    "    colormap = np.zeros((11, 3), dtype=np.uint8)\n",
    "    for inex, (_, r, g, b) in enumerate(class_colormap.values):\n",
    "        colormap[inex] = [r, g, b]\n",
    "    \n",
    "    return colormap\n",
    "\n",
    "def label_to_color_image(label):\n",
    "    \"\"\"Adds color defined by the dataset colormap to the label.\n",
    "\n",
    "    Args:\n",
    "        label: A 2D array with integer type, storing the segmentation label.\n",
    "\n",
    "    Returns:\n",
    "        result: A 2D array with floating type. The element of the array\n",
    "                is the color indexed by the corresponding element in the input label\n",
    "                to the trash color map.\n",
    "\n",
    "    Raises:\n",
    "        ValueError: If label is not of rank 2 or its value is larger than color\n",
    "              map maximum entry.\n",
    "    \"\"\"\n",
    "    if label.ndim != 2:\n",
    "        raise ValueError('Expect 2-D input label')\n",
    "\n",
    "    colormap = create_trash_label_colormap()\n",
    "\n",
    "    if np.max(label) >= len(colormap):\n",
    "        raise ValueError('label value too large.')\n",
    "\n",
    "    return colormap[label]"
   ]
  },
  {
   "cell_type": "code",
   "execution_count": 6,
   "metadata": {},
   "outputs": [
    {
     "name": "stdout",
     "output_type": "stream",
     "text": [
      "loading annotations into memory...\n",
      "Done (t=5.44s)\n",
      "creating index...\n",
      "index created!\n"
     ]
    }
   ],
   "source": [
    "coco = COCO(anns_file_path)\n",
    "data = coco.getImgIds()"
   ]
  },
  {
   "cell_type": "markdown",
   "metadata": {},
   "source": [
    "## split data"
   ]
  },
  {
   "cell_type": "code",
   "execution_count": 7,
   "metadata": {},
   "outputs": [],
   "source": [
    "data_train, data_val, labels_train, labels_val \\\n",
    "    = train_test_split(data, data, test_size=0.20, random_state=42)\n",
    "\n",
    "mode = {\"train\":data_train, \"val\":data_val}"
   ]
  },
  {
   "cell_type": "code",
   "execution_count": 8,
   "metadata": {},
   "outputs": [
    {
     "name": "stderr",
     "output_type": "stream",
     "text": [
      "100%|██████████| 2617/2617 [01:16<00:00, 34.14it/s]\n",
      "100%|██████████| 655/655 [00:19<00:00, 34.16it/s]\n"
     ]
    }
   ],
   "source": [
    "for k, v in mode.items():\n",
    "    for idx in tqdm(v):\n",
    "        image_id = coco.getImgIds(imgIds=idx)\n",
    "        image_infos = coco.loadImgs(image_id)[0]\n",
    "        \n",
    "        #파일 이름 정하기\n",
    "        #image_infos['file_name'] \n",
    "\n",
    "        # cv2 를 활용하여 image 불러오기\n",
    "        images = cv2.imread(os.path.join(dataset_path, image_infos['file_name']))\n",
    "        # images = cv2.cvtColor(images, cv2.COLOR_BGR2RGB).astype(np.float32)\n",
    "        # images /= 255.0\n",
    "            \n",
    "        ann_ids = coco.getAnnIds(imgIds=image_infos['id'])\n",
    "        anns = coco.loadAnns(ann_ids)\n",
    "\n",
    "        # Load the categories in a variable\n",
    "        cat_ids = coco.getCatIds()\n",
    "        cats = coco.loadCats(cat_ids)\n",
    "        \n",
    "        # masks : size가 (height x width)인 2D\n",
    "        # 각각의 pixel 값에는 \"category id\" 할당\n",
    "        # Background = 0\n",
    "        masks = np.zeros((image_infos[\"height\"], image_infos[\"width\"]))\n",
    "        # General trash = 1, ... , Cigarette = 10\n",
    "        anns = sorted(anns, key=lambda idx : idx['area'], reverse=True)\n",
    "        for i in range(len(anns)):\n",
    "            pixel_value = category_names.index(cats[anns[i]['category_id']-1][\"name\"])\n",
    "            masks[coco.annToMask(anns[i]) == 1] = pixel_value\n",
    "        masks = masks.astype(np.int8)\n",
    "        \n",
    "        #masks = label_to_color_image(masks)\n",
    "        # fig, ax = plt.subplots(nrows=1, ncols=1, figsize=(12, 12))\n",
    "        # ax.imshow(masks)\n",
    "        # ax.grid(False)\n",
    "        # ax.set_title(\"masks : {}\".format(image_infos['file_name']), fontsize = 15)    \n",
    "        # plt.show()\n",
    "\n",
    "        \n",
    "        cv2.imwrite(save_data_path + \"/img_dir/\" + k + \"/\" + image_infos['file_name'].split('/')[0] + \"_\" + image_infos['file_name'].split('/')[1][:-4] + \".png\", images)\n",
    "        cv2.imwrite(save_data_path + \"/ann_dir/\" + k + \"/\" + image_infos['file_name'].split('/')[0] + \"_\" + image_infos['file_name'].split('/')[1][:-4] + \".png\", masks)\n",
    "        "
   ]
  },
  {
   "cell_type": "code",
   "execution_count": null,
   "metadata": {},
   "outputs": [],
   "source": []
  }
 ],
 "metadata": {
  "interpreter": {
   "hash": "d4d1e4263499bec80672ea0156c357c1ee493ec2b1c70f0acce89fc37c4a6abe"
  },
  "kernelspec": {
   "display_name": "Python 3.8.5 ('base')",
   "language": "python",
   "name": "python3"
  },
  "language_info": {
   "codemirror_mode": {
    "name": "ipython",
    "version": 3
   },
   "file_extension": ".py",
   "mimetype": "text/x-python",
   "name": "python",
   "nbconvert_exporter": "python",
   "pygments_lexer": "ipython3",
   "version": "3.8.5"
  },
  "orig_nbformat": 4
 },
 "nbformat": 4,
 "nbformat_minor": 2
}
